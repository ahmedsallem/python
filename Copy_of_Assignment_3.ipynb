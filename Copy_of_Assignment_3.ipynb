{
  "cells": [
    {
      "cell_type": "markdown",
      "id": "4641ad72-425b-45da-8fa9-14cf487b935e",
      "metadata": {
        "id": "4641ad72-425b-45da-8fa9-14cf487b935e"
      },
      "source": [
        "# Assignment 3"
      ]
    },
    {
      "cell_type": "markdown",
      "id": "ad0c6c81-0672-4420-b69d-047c71a5873b",
      "metadata": {
        "id": "ad0c6c81-0672-4420-b69d-047c71a5873b"
      },
      "source": [
        "### Write a function to count the number 4 in a given list."
      ]
    },
    {
      "cell_type": "code",
      "execution_count": null,
      "id": "8e312bc9-71de-4913-8be9-11ad767cfc86",
      "metadata": {
        "id": "8e312bc9-71de-4913-8be9-11ad767cfc86"
      },
      "outputs": [],
      "source": []
    },
    {
      "cell_type": "markdown",
      "id": "c8cd859f-f09d-41d3-8b83-e96155790ee9",
      "metadata": {
        "id": "c8cd859f-f09d-41d3-8b83-e96155790ee9"
      },
      "source": [
        "### write a  function to check whether a number is divisible by another number."
      ]
    },
    {
      "cell_type": "code",
      "execution_count": null,
      "id": "7dd3057a-3aa3-456a-af6f-333cf7dcc902",
      "metadata": {
        "id": "7dd3057a-3aa3-456a-af6f-333cf7dcc902"
      },
      "outputs": [],
      "source": []
    },
    {
      "cell_type": "markdown",
      "id": "e52f1ad1-876b-4ba0-bc85-b89ce4d6c2cf",
      "metadata": {
        "id": "e52f1ad1-876b-4ba0-bc85-b89ce4d6c2cf"
      },
      "source": [
        "### write a function to find the maximum and minimum numbers from a sequence of numbers."
      ]
    },
    {
      "cell_type": "code",
      "execution_count": null,
      "id": "5b1baa18-9be4-4496-9457-234054e66b56",
      "metadata": {
        "id": "5b1baa18-9be4-4496-9457-234054e66b56"
      },
      "outputs": [],
      "source": []
    },
    {
      "cell_type": "markdown",
      "id": "5e64991e-ba8c-4345-92c4-4db878a5e2f4",
      "metadata": {
        "id": "5e64991e-ba8c-4345-92c4-4db878a5e2f4"
      },
      "source": [
        "### Write a Python function that takes two lists and returns True if they have at least one common member."
      ]
    },
    {
      "cell_type": "code",
      "execution_count": null,
      "id": "1f756abf-eaeb-4990-8869-6679787640e3",
      "metadata": {
        "id": "1f756abf-eaeb-4990-8869-6679787640e3"
      },
      "outputs": [],
      "source": []
    },
    {
      "cell_type": "markdown",
      "id": "44099dc1-aa2d-4233-a9a5-2a87fcebf9b2",
      "metadata": {
        "id": "44099dc1-aa2d-4233-a9a5-2a87fcebf9b2"
      },
      "source": [
        "### Write a Python function to calculate the factorial of a number (a non-negative integer). The function accepts the number from the user"
      ]
    },
    {
      "cell_type": "code",
      "execution_count": null,
      "id": "59787ece-3881-439e-82c4-bf0996dcd488",
      "metadata": {
        "id": "59787ece-3881-439e-82c4-bf0996dcd488"
      },
      "outputs": [],
      "source": []
    },
    {
      "cell_type": "markdown",
      "id": "9ba31cef-4d80-4f9e-aa40-c4aa26194cf0",
      "metadata": {
        "id": "9ba31cef-4d80-4f9e-aa40-c4aa26194cf0"
      },
      "source": [
        "### Write a Python function to check whether a number is in a given range."
      ]
    },
    {
      "cell_type": "code",
      "execution_count": null,
      "id": "7335f665-d41a-4c05-9bfe-609bbb85ba49",
      "metadata": {
        "id": "7335f665-d41a-4c05-9bfe-609bbb85ba49"
      },
      "outputs": [],
      "source": []
    },
    {
      "cell_type": "markdown",
      "id": "ecdf4d79-8550-49be-b2c4-5381a64a60ac",
      "metadata": {
        "id": "ecdf4d79-8550-49be-b2c4-5381a64a60ac"
      },
      "source": [
        "### Write a  program to create the multiplication table (from 1 to 10) of a number."
      ]
    },
    {
      "cell_type": "code",
      "execution_count": null,
      "id": "5300cd38-e581-4c97-b002-9e8bf7e61993",
      "metadata": {
        "id": "5300cd38-e581-4c97-b002-9e8bf7e61993"
      },
      "outputs": [],
      "source": []
    },
    {
      "cell_type": "markdown",
      "id": "60c863f8-74ab-4aa6-8f1d-7cb65703383e",
      "metadata": {
        "id": "60c863f8-74ab-4aa6-8f1d-7cb65703383e"
      },
      "source": [
        "#### LESSER OF TWO EVENS: Write a function that returns the lesser of two given numbers *if* both numbers are even, but returns the greater if one or both numbers are odd."
      ]
    },
    {
      "cell_type": "code",
      "execution_count": null,
      "id": "8babfbcc-9a9b-4237-b6f8-47e2b507c50c",
      "metadata": {
        "id": "8babfbcc-9a9b-4237-b6f8-47e2b507c50c"
      },
      "outputs": [],
      "source": []
    },
    {
      "cell_type": "markdown",
      "id": "6f0e1582-6183-48a3-a805-a019659c3f86",
      "metadata": {
        "id": "6f0e1582-6183-48a3-a805-a019659c3f86"
      },
      "source": [
        "#### ANIMAL CRACKERS: Write a function takes a two-word string and returns True if both words begin with same letter.\n",
        "animal_crackers('Levelheaded Llama') --> True\n",
        "\n",
        "animal_crackers('Crazy Kangaroo') --> False"
      ]
    },
    {
      "cell_type": "code",
      "execution_count": null,
      "id": "5522de93-8d5b-45ea-a5c5-587c3047509d",
      "metadata": {
        "id": "5522de93-8d5b-45ea-a5c5-587c3047509d"
      },
      "outputs": [],
      "source": []
    },
    {
      "cell_type": "code",
      "execution_count": null,
      "id": "144268e1-5853-4602-bbd1-b1f73657245c",
      "metadata": {
        "id": "144268e1-5853-4602-bbd1-b1f73657245c"
      },
      "outputs": [],
      "source": []
    },
    {
      "cell_type": "markdown",
      "id": "296bb064-ff67-4631-aa17-33b4cd6196c6",
      "metadata": {
        "id": "296bb064-ff67-4631-aa17-33b4cd6196c6"
      },
      "source": [
        "#### MAKES TWENTY: Given two integers, return True if the sum of the integers is 20 *or* if one of the integers is 20. If not, return False\n",
        "\n",
        "makes_twenty(20,10) --> True\n",
        "\n",
        "makes_twenty(12,8) --> True\n",
        "\n",
        "makes_twenty(2,3) --> False\""
      ]
    },
    {
      "cell_type": "code",
      "execution_count": null,
      "id": "0f63eb1d-b7aa-4ba1-919d-1f8f823df3de",
      "metadata": {
        "id": "0f63eb1d-b7aa-4ba1-919d-1f8f823df3de"
      },
      "outputs": [],
      "source": []
    },
    {
      "cell_type": "markdown",
      "id": "844697ee-af3a-4a6a-a109-6cba67f34714",
      "metadata": {
        "id": "844697ee-af3a-4a6a-a109-6cba67f34714"
      },
      "source": [
        "#### ALMOST THERE: Given an integer n, return True if n is within 10 of either 100 or 200\n",
        "\n",
        "almost_there(90) --> True\n",
        "\n",
        "almost_there(104) --> True\n",
        "\n",
        "almost_there(150) --> False\n",
        "\n",
        "almost_there(209) --> True"
      ]
    },
    {
      "cell_type": "code",
      "execution_count": null,
      "id": "5a821e59-ef30-4dc9-b909-63001bc7725f",
      "metadata": {
        "id": "5a821e59-ef30-4dc9-b909-63001bc7725f"
      },
      "outputs": [],
      "source": []
    },
    {
      "cell_type": "markdown",
      "id": "3cc575e5-421b-4540-9c82-deb07ab7bbf6",
      "metadata": {
        "id": "3cc575e5-421b-4540-9c82-deb07ab7bbf6"
      },
      "source": [
        "#### BLACKJACK: Given three integers between 1 and 11, if their sum is less than or equal to 21, return their sum. If their sum exceeds 21 *and* there's an eleven, reduce the total sum by 10. Finally, if the sum  exceeds 21, return 'BUST'\n",
        "\n",
        "blackjack(5,6,7) --> 18\n",
        "\n",
        "blackjack(9,9,9) --> 'BUST'\n",
        "\n",
        "blackjack(9,9,11) --> 19\""
      ]
    },
    {
      "cell_type": "code",
      "execution_count": null,
      "id": "ec26a9d5-5ed0-4496-8447-0f66c6572ac3",
      "metadata": {
        "id": "ec26a9d5-5ed0-4496-8447-0f66c6572ac3"
      },
      "outputs": [],
      "source": []
    }
  ],
  "metadata": {
    "colab": {
      "provenance": []
    },
    "kernelspec": {
      "display_name": "Python 3 (ipykernel)",
      "language": "python",
      "name": "python3"
    },
    "language_info": {
      "codemirror_mode": {
        "name": "ipython",
        "version": 3
      },
      "file_extension": ".py",
      "mimetype": "text/x-python",
      "name": "python",
      "nbconvert_exporter": "python",
      "pygments_lexer": "ipython3",
      "version": "3.11.5"
    }
  },
  "nbformat": 4,
  "nbformat_minor": 5
}